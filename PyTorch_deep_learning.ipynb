{
  "nbformat": 4,
  "nbformat_minor": 0,
  "metadata": {
    "colab": {
      "provenance": [],
      "authorship_tag": "ABX9TyPuAi0n6ijmw5cnWW5mFG/f",
      "include_colab_link": true
    },
    "kernelspec": {
      "name": "python3",
      "display_name": "Python 3"
    },
    "language_info": {
      "name": "python"
    }
  },
  "cells": [
    {
      "cell_type": "markdown",
      "metadata": {
        "id": "view-in-github",
        "colab_type": "text"
      },
      "source": [
        "<a href=\"https://colab.research.google.com/github/M-FoysalAhmed/PyTorch_Deep_Learning/blob/main/PyTorch_deep_learning.ipynb\" target=\"_parent\"><img src=\"https://colab.research.google.com/assets/colab-badge.svg\" alt=\"Open In Colab\"/></a>"
      ]
    },
    {
      "cell_type": "markdown",
      "source": [
        "# 1D Tensor"
      ],
      "metadata": {
        "id": "7RcgqudFxH-I"
      }
    },
    {
      "cell_type": "code",
      "execution_count": null,
      "metadata": {
        "colab": {
          "base_uri": "https://localhost:8080/"
        },
        "id": "C2osVy_IxB22",
        "outputId": "7a76a312-db27-4a3d-df15-68adaea5d327"
      },
      "outputs": [
        {
          "output_type": "stream",
          "name": "stdout",
          "text": [
            "Original Tensor:  tensor([1., 2., 5., 7., 9.])\n"
          ]
        }
      ],
      "source": [
        "import torch\n",
        "\n",
        "# create a 1D tensor\n",
        "tensor_data = [1, 2, 5, 7, 9]\n",
        "tensor = torch.tensor(tensor_data, dtype = torch.float32)\n",
        "\n",
        "# Display the tensor\n",
        "print(\"Original Tensor: \", tensor)"
      ]
    },
    {
      "cell_type": "code",
      "source": [
        "# Now manipulate the tensor\n",
        "# Example: Power each element\n",
        "\n",
        "tensor = tensor ** 3\n",
        "\n",
        "# Display the tensor\n",
        "print(\"Manipulated Tensor: \", tensor)"
      ],
      "metadata": {
        "id": "zKZxmwZ1xytv",
        "colab": {
          "base_uri": "https://localhost:8080/"
        },
        "outputId": "1cc7af60-673a-40cf-ad92-fa9c7ed5b454"
      },
      "execution_count": 2,
      "outputs": [
        {
          "output_type": "stream",
          "name": "stdout",
          "text": [
            "Manipulated Tensor:  tensor([  1.,   8., 125., 343., 729.])\n"
          ]
        }
      ]
    },
    {
      "cell_type": "code",
      "source": [],
      "metadata": {
        "id": "zfprBXWpzdEK"
      },
      "execution_count": null,
      "outputs": []
    }
  ]
}