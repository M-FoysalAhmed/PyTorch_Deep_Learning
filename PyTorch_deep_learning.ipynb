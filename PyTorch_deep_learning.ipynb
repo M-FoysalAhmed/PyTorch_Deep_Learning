{
  "nbformat": 4,
  "nbformat_minor": 0,
  "metadata": {
    "colab": {
      "provenance": [],
      "authorship_tag": "ABX9TyPCN8x+3Y4I2VNZzGCYuhms",
      "include_colab_link": true
    },
    "kernelspec": {
      "name": "python3",
      "display_name": "Python 3"
    },
    "language_info": {
      "name": "python"
    }
  },
  "cells": [
    {
      "cell_type": "markdown",
      "metadata": {
        "id": "view-in-github",
        "colab_type": "text"
      },
      "source": [
        "<a href=\"https://colab.research.google.com/github/M-FoysalAhmed/PyTorch_Deep_Learning/blob/main/PyTorch_deep_learning.ipynb\" target=\"_parent\"><img src=\"https://colab.research.google.com/assets/colab-badge.svg\" alt=\"Open In Colab\"/></a>"
      ]
    },
    {
      "cell_type": "markdown",
      "source": [
        "# 1D Tensor"
      ],
      "metadata": {
        "id": "7RcgqudFxH-I"
      }
    },
    {
      "cell_type": "code",
      "execution_count": null,
      "metadata": {
        "colab": {
          "base_uri": "https://localhost:8080/"
        },
        "id": "C2osVy_IxB22",
        "outputId": "7a76a312-db27-4a3d-df15-68adaea5d327"
      },
      "outputs": [
        {
          "output_type": "stream",
          "name": "stdout",
          "text": [
            "Original Tensor:  tensor([1., 2., 5., 7., 9.])\n"
          ]
        }
      ],
      "source": [
        "import torch\n",
        "\n",
        "# create a 1D tensor\n",
        "tensor_data = [1, 2, 5, 7, 9]\n",
        "tensor = torch.tensor(tensor_data, dtype = torch.float32)\n",
        "\n",
        "# Display the tensor\n",
        "print(\"Original Tensor: \", tensor)"
      ]
    },
    {
      "cell_type": "code",
      "source": [
        "# Now manipulate"
      ],
      "metadata": {
        "id": "zKZxmwZ1xytv"
      },
      "execution_count": null,
      "outputs": []
    }
  ]
}