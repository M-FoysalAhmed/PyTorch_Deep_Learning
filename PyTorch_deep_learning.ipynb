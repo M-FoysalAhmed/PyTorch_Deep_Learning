{
  "nbformat": 4,
  "nbformat_minor": 0,
  "metadata": {
    "colab": {
      "provenance": [],
      "authorship_tag": "ABX9TyMJfIbbvskiu3nxEpeMvczz",
      "include_colab_link": true
    },
    "kernelspec": {
      "name": "python3",
      "display_name": "Python 3"
    },
    "language_info": {
      "name": "python"
    }
  },
  "cells": [
    {
      "cell_type": "markdown",
      "metadata": {
        "id": "view-in-github",
        "colab_type": "text"
      },
      "source": [
        "<a href=\"https://colab.research.google.com/github/M-FoysalAhmed/PyTorch_Deep_Learning/blob/main/PyTorch_deep_learning.ipynb\" target=\"_parent\"><img src=\"https://colab.research.google.com/assets/colab-badge.svg\" alt=\"Open In Colab\"/></a>"
      ]
    },
    {
      "cell_type": "markdown",
      "source": [
        "# 1D Tensor"
      ],
      "metadata": {
        "id": "7RcgqudFxH-I"
      }
    },
    {
      "cell_type": "code",
      "execution_count": 5,
      "metadata": {
        "colab": {
          "base_uri": "https://localhost:8080/"
        },
        "id": "C2osVy_IxB22",
        "outputId": "493f6f50-f469-49e5-c51d-3d2cb2e0a3b0"
      },
      "outputs": [
        {
          "output_type": "stream",
          "name": "stdout",
          "text": [
            "Original Tensor:  tensor([1., 2., 5., 7., 9.])\n"
          ]
        }
      ],
      "source": [
        "import torch\n",
        "\n",
        "# create a 1D tensor\n",
        "tensor_data = [1, 2, 5, 7, 9]\n",
        "tensor = torch.tensor(tensor_data, dtype = torch.float32)\n",
        "\n",
        "# Display the tensor\n",
        "print(\"Original Tensor: \", tensor)"
      ]
    },
    {
      "cell_type": "code",
      "source": [
        "# Now manipulate the tensor\n",
        "# Example: Power each element\n",
        "\n",
        "tensor = tensor ** 3\n",
        "\n",
        "# Display the tensor\n",
        "print(\"Manipulated Tensor: \", tensor)"
      ],
      "metadata": {
        "id": "zKZxmwZ1xytv",
        "colab": {
          "base_uri": "https://localhost:8080/"
        },
        "outputId": "783fdd65-ab04-47b5-ca0b-6996eb7349fa"
      },
      "execution_count": 6,
      "outputs": [
        {
          "output_type": "stream",
          "name": "stdout",
          "text": [
            "Manipulated Tensor:  tensor([  1.,   8., 125., 343., 729.])\n"
          ]
        }
      ]
    },
    {
      "cell_type": "markdown",
      "source": [
        "<!-- break -->"
      ],
      "metadata": {
        "id": "kPYkbWUIz7Ng"
      }
    },
    {
      "cell_type": "markdown",
      "source": [
        "# 2D Tensor"
      ],
      "metadata": {
        "id": "sPnzvNNgz8iX"
      }
    },
    {
      "cell_type": "code",
      "source": [
        "# create a tensor\n",
        "tensor_data = [[1,3,5,7], [2,4,6,8], [1,2,3,4]]\n",
        "tensor = torch.tensor(tensor_data, dtype = torch.float32)\n",
        "\n",
        "# Display the created tensor\n",
        "print(\"Original Tensor: \")\n",
        "print(tensor)"
      ],
      "metadata": {
        "colab": {
          "base_uri": "https://localhost:8080/"
        },
        "id": "zfprBXWpzdEK",
        "outputId": "85b37cc7-3db1-4713-a4d9-614f5ec867e7"
      },
      "execution_count": 7,
      "outputs": [
        {
          "output_type": "stream",
          "name": "stdout",
          "text": [
            "Original Tensor: \n",
            "tensor([[1., 3., 5., 7.],\n",
            "        [2., 4., 6., 8.],\n",
            "        [1., 2., 3., 4.]])\n"
          ]
        }
      ]
    },
    {
      "cell_type": "code",
      "source": [
        "# Manipulate the tensor\n",
        "# Example power of each element\n",
        "# tensor = tensor ** 2\n",
        "tensor *= 2\n",
        "\n",
        "# Display the manipulated Tensor\n",
        "# print(\"Manipulated Tensor: \", tensor)\n",
        "print(\"Manipulated tensor: \")\n",
        "print(tensor)"
      ],
      "metadata": {
        "colab": {
          "base_uri": "https://localhost:8080/"
        },
        "id": "0D27YWN60jzG",
        "outputId": "22b4ec65-9a57-40fa-bcdb-9d269bde8dd6"
      },
      "execution_count": 8,
      "outputs": [
        {
          "output_type": "stream",
          "name": "stdout",
          "text": [
            "Manipulated tensor: \n",
            "tensor([[ 2.,  6., 10., 14.],\n",
            "        [ 4.,  8., 12., 16.],\n",
            "        [ 2.,  4.,  6.,  8.]])\n"
          ]
        }
      ]
    },
    {
      "cell_type": "markdown",
      "source": [
        "<!-- break -->"
      ],
      "metadata": {
        "id": "h8NXuydq2rdU"
      }
    },
    {
      "cell_type": "markdown",
      "source": [
        "# visualization"
      ],
      "metadata": {
        "id": "QlEz9Ixw2nYm"
      }
    },
    {
      "cell_type": "code",
      "source": [
        "import matplotlib.pyplot as plt\n",
        "plt.imshow(tensor, cmap = 'plasma', interpolation ='nearest')\n",
        "plt.title(\"Visualization of Manipulated Tensor\")\n",
        "plt.colorbar()\n",
        "plt.show()"
      ],
      "metadata": {
        "colab": {
          "base_uri": "https://localhost:8080/",
          "height": 420
        },
        "id": "nZze6oQL1T4J",
        "outputId": "c6eaf8ed-5907-4df4-c792-a285d27bfb70"
      },
      "execution_count": 9,
      "outputs": [
        {
          "output_type": "display_data",
          "data": {
            "text/plain": [
              "<Figure size 640x480 with 2 Axes>"
            ],
            "image/png": "[encoded data removed]"
          },
          "metadata": {}
        }
      ]
    },
    {
      "cell_type": "markdown",
      "source": [
        "<!-- break -->"
      ],
      "metadata": {
        "id": "dv6KFUMT_Cwo"
      }
    },
    {
      "cell_type": "markdown",
      "source": [
        "# 3D Tensor"
      ],
      "metadata": {
        "id": "9OE_1eWS_EIv"
      }
    },
    {
      "cell_type": "code",
      "source": [
        "import torch\n",
        "import matplotlib.pyplot as plt\n",
        "from mpl_toolkits.mplot3d import Axes3D\n",
        "\n",
        "# Create a 3D tensor\n",
        "tensor_data = [[[1, 3, 5], [2, 4, 6], [1, 2, 4]],\n",
        "                [[11, 13, 15], [12, 14, 16], [11, 12, 13]],\n",
        "               [[21, 23, 25], [22, 24, 26], [21, 22, 23]]]\n",
        "\n",
        "\n",
        "tensor = torch.tensor(tensor_data, dtype = torch.float32)\n",
        "\n",
        "# Display the created tensor\n",
        "print(\"Original Tensor: \")\n",
        "print(tensor)"
      ],
      "metadata": {
        "colab": {
          "base_uri": "https://localhost:8080/"
        },
        "id": "jKFUjY-I4W_G",
        "outputId": "c9507a29-261c-4c45-d80b-63282a23aa37"
      },
      "execution_count": 11,
      "outputs": [
        {
          "output_type": "stream",
          "name": "stdout",
          "text": [
            "Original Tensor: \n",
            "tensor([[[ 1.,  3.,  5.],\n",
            "         [ 2.,  4.,  6.],\n",
            "         [ 1.,  2.,  4.]],\n",
            "\n",
            "        [[11., 13., 15.],\n",
            "         [12., 14., 16.],\n",
            "         [11., 12., 13.]],\n",
            "\n",
            "        [[21., 23., 25.],\n",
            "         [22., 24., 26.],\n",
            "         [21., 22., 23.]]])\n"
          ]
        }
      ]
    },
    {
      "cell_type": "code",
      "source": [],
      "metadata": {
        "id": "BUIhI9_eUVLf"
      },
      "execution_count": 10,
      "outputs": []
    }
  ]
}