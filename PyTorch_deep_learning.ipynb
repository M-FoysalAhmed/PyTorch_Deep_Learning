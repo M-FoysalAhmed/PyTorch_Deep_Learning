{
  "nbformat": 4,
  "nbformat_minor": 0,
  "metadata": {
    "colab": {
      "provenance": [],
      "authorship_tag": "ABX9TyO4f8nmBG0hk4XXqtjXUV0P",
      "include_colab_link": true
    },
    "kernelspec": {
      "name": "python3",
      "display_name": "Python 3"
    },
    "language_info": {
      "name": "python"
    }
  },
  "cells": [
    {
      "cell_type": "markdown",
      "metadata": {
        "id": "view-in-github",
        "colab_type": "text"
      },
      "source": [
        "<a href=\"https://colab.research.google.com/github/M-FoysalAhmed/PyTorch_Deep_Learning/blob/main/PyTorch_deep_learning.ipynb\" target=\"_parent\"><img src=\"https://colab.research.google.com/assets/colab-badge.svg\" alt=\"Open In Colab\"/></a>"
      ]
    },
    {
      "cell_type": "markdown",
      "source": [
        "# 1D Tensor"
      ],
      "metadata": {
        "id": "7RcgqudFxH-I"
      }
    },
    {
      "cell_type": "code",
      "execution_count": null,
      "metadata": {
        "colab": {
          "base_uri": "https://localhost:8080/"
        },
        "id": "C2osVy_IxB22",
        "outputId": "7a76a312-db27-4a3d-df15-68adaea5d327"
      },
      "outputs": [
        {
          "output_type": "stream",
          "name": "stdout",
          "text": [
            "Original Tensor:  tensor([1., 2., 5., 7., 9.])\n"
          ]
        }
      ],
      "source": [
        "import torch\n",
        "\n",
        "# create a 1D tensor\n",
        "tensor_data = [1, 2, 5, 7, 9]\n",
        "tensor = torch.tensor(tensor_data, dtype = torch.float32)\n",
        "\n",
        "# Display the tensor\n",
        "print(\"Original Tensor: \", tensor)"
      ]
    },
    {
      "cell_type": "code",
      "source": [
        "# Now manipulate the tensor\n",
        "# Example: Power each element\n",
        "\n",
        "tensor = tensor ** 3\n",
        "\n",
        "# Display the tensor\n",
        "print(\"Manipulated Tensor: \", tensor)"
      ],
      "metadata": {
        "id": "zKZxmwZ1xytv",
        "colab": {
          "base_uri": "https://localhost:8080/"
        },
        "outputId": "1cc7af60-673a-40cf-ad92-fa9c7ed5b454"
      },
      "execution_count": 2,
      "outputs": [
        {
          "output_type": "stream",
          "name": "stdout",
          "text": [
            "Manipulated Tensor:  tensor([  1.,   8., 125., 343., 729.])\n"
          ]
        }
      ]
    },
    {
      "cell_type": "markdown",
      "source": [
        "<!-- break -->"
      ],
      "metadata": {
        "id": "kPYkbWUIz7Ng"
      }
    },
    {
      "cell_type": "markdown",
      "source": [
        "# 2D Tensor"
      ],
      "metadata": {
        "id": "sPnzvNNgz8iX"
      }
    },
    {
      "cell_type": "code",
      "source": [
        "# create a tensor\n",
        "tensor_data = [1,3,5,7], [2,4,6,8], [1,2,3,4]\n",
        "tensor = torch.tensor(tensor_data, dtype = torch.float32)\n",
        "\n",
        "# Display the created tensor\n",
        "print(\"Original Tensor: \")\n",
        "print(tensor)"
      ],
      "metadata": {
        "colab": {
          "base_uri": "https://localhost:8080/"
        },
        "id": "zfprBXWpzdEK",
        "outputId": "40bf1c20-539b-4502-e7fa-eaff3d2c6c22"
      },
      "execution_count": 8,
      "outputs": [
        {
          "output_type": "stream",
          "name": "stdout",
          "text": [
            "Original Tensor: \n",
            "tensor([[1., 3., 5., 7.],\n",
            "        [2., 4., 6., 8.],\n",
            "        [1., 2., 3., 4.]])\n"
          ]
        }
      ]
    },
    {
      "cell_type": "code",
      "source": [
        "# Manipulate the tensor\n",
        "# Example power of each element\n",
        "# tensor = tensor ** 2\n",
        "tensor *= 2\n",
        "\n",
        "# Display the manipulated Tensor\n",
        "# print(\"Manipulated Tensor: \", tensor)\n",
        "print(\"Manipulated tensor: \")\n",
        "print(tensor)"
      ],
      "metadata": {
        "colab": {
          "base_uri": "https://localhost:8080/"
        },
        "id": "0D27YWN60jzG",
        "outputId": "47984db0-7d9b-4c2e-e82a-cd4c108163c4"
      },
      "execution_count": 16,
      "outputs": [
        {
          "output_type": "stream",
          "name": "stdout",
          "text": [
            "Manipulated tensor: \n",
            "tensor([[ 12.,  76., 204., 396.],\n",
            "        [ 36., 132., 292., 516.],\n",
            "        [ 12.,  36.,  76., 132.]])\n"
          ]
        }
      ]
    },
    {
      "cell_type": "markdown",
      "source": [
        "<!-- break -->"
      ],
      "metadata": {
        "id": "h8NXuydq2rdU"
      }
    },
    {
      "cell_type": "markdown",
      "source": [
        "# visualization"
      ],
      "metadata": {
        "id": "QlEz9Ixw2nYm"
      }
    },
    {
      "cell_type": "code",
      "source": [
        "import matplotlib.pyplot as plt\n",
        "plt.imshow(tensor, cmap = 'plasma', interpolation ='nearest')\n",
        "plt.title(\"Visualization of Manipulated Tensor\")\n",
        "plt.colorbar()\n",
        "plt.show()"
      ],
      "metadata": {
        "colab": {
          "base_uri": "https://localhost:8080/",
          "height": 406
        },
        "id": "nZze6oQL1T4J",
        "outputId": "610d7a32-99a5-4811-e6f8-b6edb4d60874"
      },
      "execution_count": 18,
      "outputs": [
        {
          "output_type": "display_data",
          "data": {
            "text/plain": [
              "<Figure size 640x480 with 2 Axes>"
            ],
            "image/png": "[encoded data removed]"
          },
          "metadata": {}
        }
      ]
    },
    {
      "cell_type": "code",
      "source": [],
      "metadata": {
        "id": "iw6AGNSH3NWQ"
      },
      "execution_count": 17,
      "outputs": []
    }
  ]
}