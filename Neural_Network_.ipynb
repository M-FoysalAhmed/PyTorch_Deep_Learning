{
  "nbformat": 4,
  "nbformat_minor": 0,
  "metadata": {
    "colab": {
      "provenance": [],
      "authorship_tag": "ABX9TyM2gMHw9oHnqnGpAvjY9b0I",
      "include_colab_link": true
    },
    "kernelspec": {
      "name": "python3",
      "display_name": "Python 3"
    },
    "language_info": {
      "name": "python"
    }
  },
  "cells": [
    {
      "cell_type": "markdown",
      "metadata": {
        "id": "view-in-github",
        "colab_type": "text"
      },
      "source": [
        "<a href=\"https://colab.research.google.com/github/M-FoysalAhmed/PyTorch_Deep_Learning/blob/main/Neural_Network_.ipynb\" target=\"_parent\"><img src=\"https://colab.research.google.com/assets/colab-badge.svg\" alt=\"Open In Colab\"/></a>"
      ]
    },
    {
      "cell_type": "markdown",
      "source": [
        "# Give the drive access"
      ],
      "metadata": {
        "id": "dI6gJvikQ6OD"
      }
    },
    {
      "cell_type": "code",
      "source": [
        "from google.colab import drive\n",
        "drive.mount('/content/drive')"
      ],
      "metadata": {
        "colab": {
          "base_uri": "https://localhost:8080/"
        },
        "id": "7KqCAsM2QqwV",
        "outputId": "a8c8cfc4-4175-450f-9474-afe80f662bee"
      },
      "execution_count": 51,
      "outputs": [
        {
          "output_type": "stream",
          "name": "stdout",
          "text": [
            "Drive already mounted at /content/drive; to attempt to forcibly remount, call drive.mount(\"/content/drive\", force_remount=True).\n"
          ]
        }
      ]
    },
    {
      "cell_type": "markdown",
      "source": [
        "# Import all the necessary Library"
      ],
      "metadata": {
        "id": "dPFXYs-7RDAZ"
      }
    },
    {
      "cell_type": "code",
      "source": [
        "import torch\n",
        "import torch.nn as nn\n",
        "import torch.optim as optim\n",
        "import torchvision.transforms as transforms\n",
        "from torch.utils.data import DataLoader, Dataset\n",
        "from torchvision.datasets import ImageFolder\n",
        "import os\n",
        "import numpy as np\n",
        "import pandas as pd\n",
        "from sklearn.metrics import accuracy_score, precision_score, recall_score, f1_score\n",
        "import matplotlib.pyplot as plt\n",
        "\n",
        "\n",
        "# set random seed for reproducibility\n",
        "torch.manual_seed(10)"
      ],
      "metadata": {
        "colab": {
          "base_uri": "https://localhost:8080/"
        },
        "id": "9Uc3F6vMKff4",
        "outputId": "958e59a4-74f6-428e-b505-dae3f361a670"
      },
      "execution_count": 52,
      "outputs": [
        {
          "output_type": "execute_result",
          "data": {
            "text/plain": [
              "<torch._C.Generator at 0x7fdaeffe3830>"
            ]
          },
          "metadata": {},
          "execution_count": 52
        }
      ]
    },
    {
      "cell_type": "markdown",
      "source": [
        "**Define the Neural Network architecture**"
      ],
      "metadata": {
        "id": "rmhhKwk3MfDA"
      }
    },
    {
      "cell_type": "code",
      "source": [
        "class SimpleNN(nn.Module):\n",
        "    def __init__(self):\n",
        "        super(SimpleNN, self).__init__()\n",
        "        self.fc1 = nn.Linear(3 * 256 *256, 128)    # Assuming the input images are RGB and 256*256\n",
        "        self.relu = nn.ReLU()\n",
        "        self.fc2 = nn.Linear(128, 2)  # Output Layer with 2 classes\n",
        "        self.softmax = nn.Softmax(dim =1)\n",
        "\n",
        "\n",
        "    def forward(self, x):\n",
        "        x = x.view(-1, 3 * 256 * 256)\n",
        "        x = self.relu(self.fc1(x))\n",
        "        x = self.softmax(self.fc2(x))\n",
        "        return x\n"
      ],
      "metadata": {
        "id": "nCAreq9DMJEx"
      },
      "execution_count": 53,
      "outputs": []
    },
    {
      "cell_type": "markdown",
      "source": [
        "**set up data transformation**"
      ],
      "metadata": {
        "id": "21baYU6WfMax"
      }
    },
    {
      "cell_type": "code",
      "source": [
        "transform = transforms.Compose([\n",
        "    transforms.Resize((256, 256)),\n",
        "    transforms.ToTensor(),\n",
        "    transforms.Normalize((0.5, 0.5, 0.5), (0.5, 0.5, 0.5))\n",
        "])"
      ],
      "metadata": {
        "id": "DHA2D3J7Ynqu"
      },
      "execution_count": 54,
      "outputs": []
    },
    {
      "cell_type": "markdown",
      "source": [
        "**Define custom dataset class**"
      ],
      "metadata": {
        "id": "1MSMjrFJgPl9"
      }
    },
    {
      "cell_type": "code",
      "source": [
        "class CustomDataset(Dataset):\n",
        "    def __init__(self, root, transform =None):\n",
        "        self.dataset = ImageFolder(root, transform = transform)   # Tis ensure that every image in the dataset is resized, converted to a tensor, and normalized before being used in the training and testing process\n",
        "\n",
        "    def __len__(self):\n",
        "        return len(self.dataset)\n",
        "\n",
        "    def __getitem__(self, idx):\n",
        "        return self.dataset[idx]\n",
        "\n"
      ],
      "metadata": {
        "id": "6jHTLAKcgA0o"
      },
      "execution_count": 55,
      "outputs": []
    },
    {
      "cell_type": "markdown",
      "source": [
        "**Define data Loader**"
      ],
      "metadata": {
        "id": "7qoH3hlUkvwO"
      }
    },
    {
      "cell_type": "code",
      "source": [
        "train_dataset = CustomDataset(root ='/content/drive/MyDrive/Flowers_Classification_dataset/train', transform = transform)\n",
        "test_dataset = CustomDataset(root = '/content/drive/MyDrive/Flowers_Classification_dataset/val', transform = transform)\n",
        "\n",
        "train_loader = DataLoader(dataset = train_dataset, batch_size = 64, shuffle = True)\n",
        "test_loader = DataLoader(dataset = test_dataset, batch_size = 64, shuffle =False)\n"
      ],
      "metadata": {
        "id": "MD-Mevh2ju9u"
      },
      "execution_count": 56,
      "outputs": []
    },
    {
      "cell_type": "markdown",
      "source": [
        "**Instantiate the model, Loss function, and optimizer**"
      ],
      "metadata": {
        "id": "blL_bYUom-59"
      }
    },
    {
      "cell_type": "code",
      "source": [
        "model = SimpleNN()\n",
        "\n",
        "criterion = nn.CrossEntropyLoss()\n",
        "optimizer = optim.Adam(model.parameters(), lr = 0.0001)\n"
      ],
      "metadata": {
        "id": "1dZ_pbg4mgLC"
      },
      "execution_count": 57,
      "outputs": []
    },
    {
      "cell_type": "markdown",
      "source": [
        "**Training the model**"
      ],
      "metadata": {
        "id": "plcCDzaVqxPU"
      }
    },
    {
      "cell_type": "code",
      "source": [
        "num_epochs = 50\n",
        "train_losse = []\n",
        "valid_losses = []\n",
        "\n",
        "for epoch in range(num_epochs):\n",
        "    model.train()\n",
        "    running_loss = 0.0\n",
        "    for inputs, labels in train_loader:\n",
        "        optimizer.zero_grad()\n",
        "        outputs = model(inputs)\n",
        "        loss = criterion(outputs, labels)\n",
        "        loss.backward()\n",
        "        optimizer.step()\n",
        "        running_loss += loss.item()\n",
        "\n",
        "    average_train_loss = running_loss / len(train_loader)\n",
        "    train_losses.append(average_train_loss)\n",
        "\n",
        "\n",
        "    # validation\n",
        "    model.eval()\n",
        "    valid_loss = 0.0\n",
        "    with torch.no_grad():\n",
        "        for inputs, labels in test_loader:\n",
        "            outputs = model(inputs)\n",
        "            loss = criterion(outputs, labels)\n",
        "            valid_loss += loss.item()\n",
        "\n",
        "    average_valid_loss = valid_loss / len(test_loader)\n",
        "    valid_losses.append(average_valid_loss)\n",
        "\n",
        "    print(f'Epoch [{epoch + 1}/ {num_epochs}], '\n",
        "          f'Training Loss: {average_train_loss: .4f}, '\n",
        "          f'Validation Loss: {average_valid_loss: .4f}')\n",
        ""
      ],
      "metadata": {
        "colab": {
          "base_uri": "https://localhost:8080/"
        },
        "id": "ftRbTBSyniSS",
        "outputId": "81869823-6430-4695-910f-815ca3e156af"
      },
      "execution_count": 59,
      "outputs": [
        {
          "output_type": "stream",
          "name": "stdout",
          "text": [
            "Epoch [1/ 50], Training Loss:  0.7169, Validation Loss:  0.7400\n",
            "Epoch [2/ 50], Training Loss:  0.7076, Validation Loss:  0.7376\n",
            "Epoch [3/ 50], Training Loss:  0.7060, Validation Loss:  0.7441\n",
            "Epoch [4/ 50], Training Loss:  0.7098, Validation Loss:  0.7194\n",
            "Epoch [5/ 50], Training Loss:  0.6898, Validation Loss:  0.7298\n",
            "Epoch [6/ 50], Training Loss:  0.6855, Validation Loss:  0.7193\n",
            "Epoch [7/ 50], Training Loss:  0.6695, Validation Loss:  0.6951\n",
            "Epoch [8/ 50], Training Loss:  0.6549, Validation Loss:  0.6809\n",
            "Epoch [9/ 50], Training Loss:  0.6362, Validation Loss:  0.6643\n",
            "Epoch [10/ 50], Training Loss:  0.6226, Validation Loss:  0.6586\n",
            "Epoch [11/ 50], Training Loss:  0.6214, Validation Loss:  0.6820\n",
            "Epoch [12/ 50], Training Loss:  0.6125, Validation Loss:  0.6881\n",
            "Epoch [13/ 50], Training Loss:  0.6028, Validation Loss:  0.6915\n",
            "Epoch [14/ 50], Training Loss:  0.5909, Validation Loss:  0.6663\n",
            "Epoch [15/ 50], Training Loss:  0.5743, Validation Loss:  0.6745\n",
            "Epoch [16/ 50], Training Loss:  0.5655, Validation Loss:  0.6496\n",
            "Epoch [17/ 50], Training Loss:  0.5524, Validation Loss:  0.6474\n",
            "Epoch [18/ 50], Training Loss:  0.5475, Validation Loss:  0.6627\n",
            "Epoch [19/ 50], Training Loss:  0.5532, Validation Loss:  0.6609\n",
            "Epoch [20/ 50], Training Loss:  0.5247, Validation Loss:  0.6353\n",
            "Epoch [21/ 50], Training Loss:  0.5130, Validation Loss:  0.6371\n",
            "Epoch [22/ 50], Training Loss:  0.4873, Validation Loss:  0.6558\n",
            "Epoch [23/ 50], Training Loss:  0.4815, Validation Loss:  0.6381\n",
            "Epoch [24/ 50], Training Loss:  0.4849, Validation Loss:  0.6276\n",
            "Epoch [25/ 50], Training Loss:  0.4756, Validation Loss:  0.6424\n",
            "Epoch [26/ 50], Training Loss:  0.4638, Validation Loss:  0.6465\n",
            "Epoch [27/ 50], Training Loss:  0.4460, Validation Loss:  0.6390\n",
            "Epoch [28/ 50], Training Loss:  0.4407, Validation Loss:  0.6402\n",
            "Epoch [29/ 50], Training Loss:  0.4310, Validation Loss:  0.6257\n",
            "Epoch [30/ 50], Training Loss:  0.4288, Validation Loss:  0.6259\n",
            "Epoch [31/ 50], Training Loss:  0.4226, Validation Loss:  0.6213\n",
            "Epoch [32/ 50], Training Loss:  0.4159, Validation Loss:  0.5936\n",
            "Epoch [33/ 50], Training Loss:  0.4169, Validation Loss:  0.6093\n",
            "Epoch [34/ 50], Training Loss:  0.4071, Validation Loss:  0.5966\n",
            "Epoch [35/ 50], Training Loss:  0.4099, Validation Loss:  0.6141\n",
            "Epoch [36/ 50], Training Loss:  0.4014, Validation Loss:  0.6268\n",
            "Epoch [37/ 50], Training Loss:  0.3978, Validation Loss:  0.6275\n",
            "Epoch [38/ 50], Training Loss:  0.3955, Validation Loss:  0.6084\n",
            "Epoch [39/ 50], Training Loss:  0.3890, Validation Loss:  0.6222\n",
            "Epoch [40/ 50], Training Loss:  0.3885, Validation Loss:  0.6105\n",
            "Epoch [41/ 50], Training Loss:  0.3901, Validation Loss:  0.6166\n",
            "Epoch [42/ 50], Training Loss:  0.3816, Validation Loss:  0.6136\n",
            "Epoch [43/ 50], Training Loss:  0.3744, Validation Loss:  0.6352\n",
            "Epoch [44/ 50], Training Loss:  0.3777, Validation Loss:  0.6104\n",
            "Epoch [45/ 50], Training Loss:  0.3799, Validation Loss:  0.6157\n",
            "Epoch [46/ 50], Training Loss:  0.3720, Validation Loss:  0.6264\n",
            "Epoch [47/ 50], Training Loss:  0.3718, Validation Loss:  0.6337\n",
            "Epoch [48/ 50], Training Loss:  0.3694, Validation Loss:  0.6096\n",
            "Epoch [49/ 50], Training Loss:  0.3691, Validation Loss:  0.6098\n",
            "Epoch [50/ 50], Training Loss:  0.3737, Validation Loss:  0.6140\n"
          ]
        }
      ]
    },
    {
      "cell_type": "code",
      "source": [
        "# Evaluate the model\n",
        "def evaluate_model(model, data_loader):\n",
        "    model.eval()\n",
        "    all_preds = []\n",
        "    all_labels = []\n",
        "\n",
        "    with torch.no_grad():\n",
        "        for inputs, labels in data_loader:\n",
        "            outputs = model(inputs)\n",
        "            _, preds = torch.max(outputs, 1)\n",
        "            all_preds.extend(preds.cpu().numpy())\n",
        "            all_labels.extend(labels.cpu().numpy())\n",
        "\n",
        "\n",
        "    accuracy = accuracy_score(all_labels, all_preds)\n",
        "    precision = precision_score(all_labels, all_preds, average = 'weighted')\n",
        "    recall = recall_score(all_labels, all_preds, average = 'weighted')\n",
        "    f1 = f1_score(all_labels, all_preds, average = 'weighted')\n",
        "\n",
        "    print(f'Accuracy: {accuracy: .4f}, Precision: {precision: .4f}, Recall: {recall: .4f}, F1 Score: {f1: .4f}')\n",
        "\n",
        "evaluate_model(model, test_loader)\n",
        "\n",
        "# Visualize training and validation curve\n",
        "plt.plot(train_losses, label = 'Training Loss')\n",
        "plt.plot(valid_losses, label = 'Validation Loss')\n",
        "plt.xlabel('Epochs')\n",
        "plt.ylabel('Loss')\n",
        "plt.legend()\n",
        "plt.show()\n",
        "\n",
        "# Save the trained model\n",
        "torch.save(model.state_dict(), 'binary_classification_model.pth')"
      ],
      "metadata": {
        "colab": {
          "base_uri": "https://localhost:8080/",
          "height": 466
        },
        "id": "E1xn7QkKuIrg",
        "outputId": "b86fc3c5-1cb3-4d15-8584-ecaf67f5ee89"
      },
      "execution_count": 61,
      "outputs": [
        {
          "output_type": "stream",
          "name": "stdout",
          "text": [
            "Accuracy:  0.6868, Precision:  0.6873, Recall:  0.6868, F1 Score:  0.6808\n"
          ]
        },
        {
          "output_type": "display_data",
          "data": {
            "text/plain": [
              "<Figure size 640x480 with 1 Axes>"
            ],
            "image/png": "[encoded data removed]"
          },
          "metadata": {}
        }
      ]
    },
    {
      "cell_type": "code",
      "source": [],
      "metadata": {
        "id": "lTOroB03_STc"
      },
      "execution_count": 60,
      "outputs": []
    }
  ]
}