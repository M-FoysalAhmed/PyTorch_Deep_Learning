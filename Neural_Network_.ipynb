{
  "nbformat": 4,
  "nbformat_minor": 0,
  "metadata": {
    "colab": {
      "provenance": [],
      "authorship_tag": "ABX9TyPWRdstAJIkIEhe9Ih9RTSd",
      "include_colab_link": true
    },
    "kernelspec": {
      "name": "python3",
      "display_name": "Python 3"
    },
    "language_info": {
      "name": "python"
    }
  },
  "cells": [
    {
      "cell_type": "markdown",
      "metadata": {
        "id": "view-in-github",
        "colab_type": "text"
      },
      "source": [
        "<a href=\"https://colab.research.google.com/github/M-FoysalAhmed/PyTorch_Deep_Learning/blob/main/Neural_Network_.ipynb\" target=\"_parent\"><img src=\"https://colab.research.google.com/assets/colab-badge.svg\" alt=\"Open In Colab\"/></a>"
      ]
    },
    {
      "cell_type": "markdown",
      "source": [
        "# Give the drive access"
      ],
      "metadata": {
        "id": "dI6gJvikQ6OD"
      }
    },
    {
      "cell_type": "code",
      "source": [
        "from google.colab import drive\n",
        "drive.mount('/content/drive')"
      ],
      "metadata": {
        "colab": {
          "base_uri": "https://localhost:8080/"
        },
        "id": "7KqCAsM2QqwV",
        "outputId": "07f89bd6-6f94-4690-8248-515c9fefa6a1"
      },
      "execution_count": 31,
      "outputs": [
        {
          "output_type": "stream",
          "name": "stdout",
          "text": [
            "Drive already mounted at /content/drive; to attempt to forcibly remount, call drive.mount(\"/content/drive\", force_remount=True).\n"
          ]
        }
      ]
    },
    {
      "cell_type": "markdown",
      "source": [
        "# Import all the necessary Library"
      ],
      "metadata": {
        "id": "dPFXYs-7RDAZ"
      }
    },
    {
      "cell_type": "code",
      "source": [
        "import torch\n",
        "import torch.nn as nn\n",
        "import torch.optim as optim\n",
        "import torchvision.transforms as transforms\n",
        "from torch.utils.data import DataLoader, Dataset\n",
        "from torchvision.datasets import ImageFolder\n",
        "import os\n",
        "import numpy as np\n",
        "import pandas as pd\n",
        "from sklearn.metrics import accuracy_score, precision_score, recall_score, f1_score\n",
        "import matplotlib.pyplot as plt\n",
        "\n",
        "\n",
        "# set random seed for reproducibility\n",
        "torch.manual_seed(10)"
      ],
      "metadata": {
        "colab": {
          "base_uri": "https://localhost:8080/"
        },
        "id": "9Uc3F6vMKff4",
        "outputId": "1f4bfe62-2fbc-4973-ae2a-4741e4695ee5"
      },
      "execution_count": 32,
      "outputs": [
        {
          "output_type": "execute_result",
          "data": {
            "text/plain": [
              "<torch._C.Generator at 0x7fdaeffe3830>"
            ]
          },
          "metadata": {},
          "execution_count": 32
        }
      ]
    },
    {
      "cell_type": "markdown",
      "source": [
        "**Define the Neural Network architecture**"
      ],
      "metadata": {
        "id": "rmhhKwk3MfDA"
      }
    },
    {
      "cell_type": "code",
      "source": [
        "class SimpleNN(nn.Module):\n",
        "    def __init__(self):\n",
        "        super(SimpleNN, self).__init__()\n",
        "        self.fc1 = nn.Linear(3 * 256 *2565, 128)    # Assuming the input images are RGB and 256*256\n",
        "        self.relu = nn.ReLU()\n",
        "        self.fc2 = nn.Linear(128, 2)  # Output Layer with 2 classes\n",
        "        self.softmax = nn.Softmax(dim =1)\n",
        "\n",
        "\n",
        "    def forward(self, x):\n",
        "        x = x.view(-1, 3 * 256 * 256)\n",
        "        x = self.relu(self.fc1(x))\n",
        "        x = self.softmax(self.fc2(x))\n",
        "        return x\n"
      ],
      "metadata": {
        "id": "nCAreq9DMJEx"
      },
      "execution_count": 33,
      "outputs": []
    },
    {
      "cell_type": "markdown",
      "source": [
        "**set up data transformation**"
      ],
      "metadata": {
        "id": "21baYU6WfMax"
      }
    },
    {
      "cell_type": "code",
      "source": [
        "transform = transforms.Compose([\n",
        "    transforms.Resize((256, 256)),\n",
        "    transforms.ToTensor(),\n",
        "    transforms.Normalize((0.5, 0.5, 0.5), (0.5, 0.5, 0.5))\n",
        "])"
      ],
      "metadata": {
        "id": "DHA2D3J7Ynqu"
      },
      "execution_count": 34,
      "outputs": []
    },
    {
      "cell_type": "markdown",
      "source": [
        "**Define custom dataset class**"
      ],
      "metadata": {
        "id": "1MSMjrFJgPl9"
      }
    },
    {
      "cell_type": "code",
      "source": [
        "class CustomDataset(Dataset):\n",
        "    def __init__(self, root, transform =None):\n",
        "        self.dataset = ImageFolder(root, transform = transform)   # Tis ensure that every image in the dataset is resized, converted to a tensor, and normalized before being used in the training and testing process\n",
        "\n",
        "    def __len__(self):\n",
        "        return len(self.dataset)\n",
        "\n",
        "    def __getitem__(self, idx):\n",
        "        return self.dataset[idx]\n",
        "\n"
      ],
      "metadata": {
        "id": "6jHTLAKcgA0o"
      },
      "execution_count": 35,
      "outputs": []
    },
    {
      "cell_type": "markdown",
      "source": [
        "**Define data Loader**"
      ],
      "metadata": {
        "id": "7qoH3hlUkvwO"
      }
    },
    {
      "cell_type": "code",
      "source": [
        "train_dataset = CustomDataset(root ='/content/drive/MyDrive/Flowers_Classification_dataset/train', transform = transform)\n",
        "test_dataset = CustomDataset(root = '/content/drive/MyDrive/Flowers_Classification_dataset/val', transform = transform)\n",
        "\n",
        "train_loader = DataLoader(dataset = train_dataset, batch_size = 64, shuffle = True)\n",
        "test_loader = DataLoader(dataset = test_dataset, batch_size = 64, shuffle =False)\n"
      ],
      "metadata": {
        "id": "MD-Mevh2ju9u"
      },
      "execution_count": 36,
      "outputs": []
    },
    {
      "cell_type": "markdown",
      "source": [
        "**Instantiate the model, Loss function, and optimizer**"
      ],
      "metadata": {
        "id": "blL_bYUom-59"
      }
    },
    {
      "cell_type": "code",
      "source": [
        "model = SimpleNN()\n",
        "\n",
        "criterion = nn.CrossEntropyLoss()\n",
        "optimizer = optim.Adam(model.parameters(), lr = 0.0001)\n"
      ],
      "metadata": {
        "id": "1dZ_pbg4mgLC"
      },
      "execution_count": 37,
      "outputs": []
    },
    {
      "cell_type": "code",
      "source": [],
      "metadata": {
        "id": "ftRbTBSyniSS"
      },
      "execution_count": 37,
      "outputs": []
    }
  ]
}